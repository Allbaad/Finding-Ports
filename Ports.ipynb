{
 "cells": [
  {
   "cell_type": "code",
   "execution_count": 1,
   "id": "46bc123b",
   "metadata": {},
   "outputs": [
    {
     "name": "stdout",
     "output_type": "stream",
     "text": [
      "Enter the IP or domain: www.google.com\n",
      "Enter the port range (Ex 20-80): 80\n",
      "Timeout (Default=5): 5\n",
      "Able to connect to: 172.217.165.4:80\n"
     ]
    }
   ],
   "source": [
    "import socket\n",
    "import sys\n",
    "\n",
    "\n",
    "def connect_to_ip(ip, port):\n",
    "    try:\n",
    "        sock = socket.socket(socket.AF_INET, socket.SOCK_STREAM)\n",
    "        sock.connect((ip, port))\n",
    "        return sock\n",
    "    except Exception:\n",
    "        return None\n",
    "\n",
    "\n",
    "def scan_port(ip, port, timeout):\n",
    "    socket.setdefaulttimeout(timeout)\n",
    "    sock = connect_to_ip(ip, port)\n",
    "\n",
    "    if sock:\n",
    "        print('Able to connect to: {0}:{1}'.format(ip, port))\n",
    "        sock.close()\n",
    "    else:\n",
    "        print('Not able to connect to: {0}:{1}'.format(ip, port))\n",
    "\n",
    "\n",
    "# Get the IP / domain from the user\n",
    "ip_domain = input(\"Enter the IP or domain: \")\n",
    "if ip_domain == '':\n",
    "    print('You must specify a host!')\n",
    "    sys.exit(0)\n",
    "\n",
    "# Get the port range from the user\n",
    "port = input(\"Enter the port range (Ex 20-80): \")\n",
    "if port == '':\n",
    "    print('You must specify a port range!')\n",
    "    sys.exit(0)\n",
    "\n",
    "# Optional: Get the timeout from the user\n",
    "timeout = input(\"Timeout (Default=5): \")\n",
    "if not timeout:\n",
    "    timeout = 5\n",
    "else:\n",
    "    timeout = int(timeout)\n",
    "\n",
    "port_range = port.split(\"-\")\n",
    "\n",
    "# Get the IP address if the host name is a domain\n",
    "try:\n",
    "    ip = socket.gethostbyname(ip_domain)\n",
    "except Exception:\n",
    "    print('There was an error resolving the domain')\n",
    "    sys.exit(1)\n",
    "\n",
    "# If the user only entered one port we will only scan the one port\n",
    "# otherwise scan the range\n",
    "if len(port_range) < 2:\n",
    "    scan_port(ip, int(port), timeout)\n",
    "else:\n",
    "    for port in range(int(port_range[0]), int(port_range[1])+1):\n",
    "        scan_port(ip, port, timeout)\n"
   ]
  },
  {
   "cell_type": "code",
   "execution_count": null,
   "id": "abdf7c2c",
   "metadata": {},
   "outputs": [],
   "source": []
  }
 ],
 "metadata": {
  "kernelspec": {
   "display_name": "Python 3 (ipykernel)",
   "language": "python",
   "name": "python3"
  },
  "language_info": {
   "codemirror_mode": {
    "name": "ipython",
    "version": 3
   },
   "file_extension": ".py",
   "mimetype": "text/x-python",
   "name": "python",
   "nbconvert_exporter": "python",
   "pygments_lexer": "ipython3",
   "version": "3.11.1"
  }
 },
 "nbformat": 4,
 "nbformat_minor": 5
}
